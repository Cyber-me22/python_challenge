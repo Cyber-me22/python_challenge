{
 "cells": [
  {
   "cell_type": "code",
   "execution_count": 5,
   "metadata": {},
   "outputs": [],
   "source": [
    "import os \n",
    "import csv"
   ]
  },
  {
   "cell_type": "code",
   "execution_count": 6,
   "metadata": {},
   "outputs": [],
   "source": [
    "# Path to collect data from the Resources folder6.\n",
    "wrestling_csv = os.path.join('..', 'Resources', 'WWE-Data-2016.csv')\n",
    "\n",
    "# Define the function and have it accept the 'wrestlerData' as its sole parameter\n",
    "def print_percentages(wrestler_data):\n",
    "    name = str(wrestler_data[0])\n",
    "    wins = int(wrestler_data[1])\n",
    "    losses = int(wrestler_data[2])\n",
    "    draws = int(wrestler_data[3])\n",
    "\n",
    "# Find the total number of matches wrestled\n",
    "    total_matches = wins + losses + draws\n",
    "# Find the percentage of matches won\n",
    "    win_percent = (wins / total_matches) * 100\n",
    "# Find the percentage of matches lost\n",
    "    loss_percent = (losses / total_matches) * 100\n",
    "# Find the percentage of matches drawn\n",
    "    draw_percent = (draws / total_matches) * 100\n",
    "# if the loss percentage is over 50, type_of_wrestler is \"Jogger\", otherwise it's \"Superstar\"\n",
    "    if loss_percent > 50:\n",
    "        type_of_wrestler = \"Jogger\"\n",
    "    else: \n",
    "        type_of_wrestler = \"Superstar\"\n",
    "# Print out the wrestler's name and their percentage stats\n",
    "    print(f\"Stats for {name}\")\n",
    "    print(f\"WIN PERCENT: {win_percent}\")\n",
    "    print(f\"LOSE PERCENT: {loss_percent}\")\n",
    "    print(f\"DRAW PERCENT: {draw_percent}\")\n",
    "    print(f\"{name} is a {type_of_wrestler}\")"
   ]
  },
  {
   "cell_type": "code",
   "execution_count": 7,
   "metadata": {},
   "outputs": [
    {
     "name": "stdout",
     "output_type": "stream",
     "text": [
      "What wrestler do you want to look for? Kevin Owens\n",
      "Stats for Kevin Owens\n",
      "WIN PERCENT: 31.606217616580313\n",
      "LOSE PERCENT: 67.35751295336787\n",
      "DRAW PERCENT: 1.0362694300518136\n",
      "Kevin Owens is a Jogger\n"
     ]
    }
   ],
   "source": [
    "# Read in the CSV file\n",
    "import os\n",
    "import csv\n",
    "\n",
    "wrestling_csv = os.path.join('..', 'Resources', 'WWE-Data-2016.csv')\n",
    "with open(wrestling_csv, 'r') as csvfile:\n",
    "\n",
    "    # Split the data on commas\n",
    "    csvreader = csv.reader(csvfile, delimiter=',')\n",
    "    \n",
    "    header = next(csvreader)\n",
    "\n",
    "    # Prompt the user for what wrestler they would like to search for\n",
    "    name_to_check = input(\"What wrestler do you want to look for? \")\n",
    "\n",
    "    # Loop through the data\n",
    "    for row in csvreader:\n",
    "\n",
    "        # If the wrestler's name in a row is equal to that which the user input, run the 'print_percentages()' function\n",
    "        if(name_to_check == row[0]):\n",
    "            print_percentages(row)"
   ]
  },
  {
   "cell_type": "code",
   "execution_count": null,
   "metadata": {},
   "outputs": [],
   "source": []
  }
 ],
 "metadata": {
  "kernelspec": {
   "display_name": "Python 3",
   "language": "python",
   "name": "python3"
  },
  "language_info": {
   "codemirror_mode": {
    "name": "ipython",
    "version": 3
   },
   "file_extension": ".py",
   "mimetype": "text/x-python",
   "name": "python",
   "nbconvert_exporter": "python",
   "pygments_lexer": "ipython3",
   "version": "3.8.3"
  }
 },
 "nbformat": 4,
 "nbformat_minor": 4
}
